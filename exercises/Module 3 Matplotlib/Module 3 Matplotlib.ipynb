{
 "cells": [
  {
   "cell_type": "markdown",
   "metadata": {},
   "source": [
    "# Matplotlib"
   ]
  },
  {
   "cell_type": "markdown",
   "metadata": {},
   "source": [
    "## Basic Matplotlib Plot"
   ]
  },
  {
   "cell_type": "code",
   "execution_count": null,
   "metadata": {
    "collapsed": false
   },
   "outputs": [],
   "source": [
    "import numpy as np\n",
    "import matplotlib.pyplot as plt\n",
    "\n",
    "x = np.linspace(0,4*np.pi,200)\n",
    "y = np.sin(x)\n",
    "y2 = np.cos(x)\n",
    "y3 = y*y2\n",
    "y4 = y*y-y2*y2\n",
    "\n",
    "plt.subplot(2,2,1)\n",
    "plt.plot(x,y,'or-')\n",
    "plt.title('Sine Curve')\n",
    "plt.xlabel('x')\n",
    "plt.ylabel('y')\n",
    "#plt.axis([0,4*np.pi,-2,2])\n",
    "\n",
    "plt.subplot(2,2,2)\n",
    "plt.plot(x,y2,'sg-')\n",
    "\n",
    "plt.subplot(2,2,3)\n",
    "plt.plot(x,y3,'^b-')\n",
    "\n",
    "plt.subplot(2,2,4)\n",
    "plt.plot(x,y4,'*k-')\n",
    "\n",
    "\n",
    "plt.show()\n"
   ]
  },
  {
   "cell_type": "code",
   "execution_count": 15,
   "metadata": {
    "collapsed": false
   },
   "outputs": [],
   "source": [
    "# Legends\n",
    "\n",
    "x = np.linspace(0,1,20)\n",
    "y1 = np.sin(x)\n",
    "y2 = np.cos(x)\n",
    "y3 = np.tan(x)\n",
    "\n",
    "plt.plot(x,y1,'c',label='y=sin(x)')\n",
    "plt.plot(x,y2,'y',label='y=cos(x)')\n",
    "plt.plot(x,y3,'r',label='y=tan(x)')\n",
    "\n",
    "plt.legend(loc='upper left')\n",
    "plt.show()"
   ]
  },
  {
   "cell_type": "markdown",
   "metadata": {},
   "source": [
    "## Other Plots"
   ]
  },
  {
   "cell_type": "code",
   "execution_count": null,
   "metadata": {
    "collapsed": false
   },
   "outputs": [],
   "source": [
    "# Scatter Plot\n",
    "import numpy as np\n",
    "import matplotlib.pyplot as plt\n",
    "\n",
    "x = np.random.randn(1000)\n",
    "y = np.random.randn(1000)\n",
    "\n",
    "plt.scatter(x,y)\n",
    "plt.show()"
   ]
  },
  {
   "cell_type": "code",
   "execution_count": null,
   "metadata": {
    "collapsed": false
   },
   "outputs": [],
   "source": [
    "# Bar Plot\n",
    "x = np.arange(5)\n",
    "y = 3.14+2.71+np.random.rand(5)\n",
    "plt.bar(x,y,color='y')\n",
    "plt.show()"
   ]
  },
  {
   "cell_type": "code",
   "execution_count": null,
   "metadata": {
    "collapsed": false
   },
   "outputs": [],
   "source": [
    "# Contour Plot\n",
    "x = np.linspace(-1,1,255)\n",
    "y = np.linspace(-2,2,300)\n",
    "X, Y = np.meshgrid(x, y)\n",
    "z = np.sin(X)*np.cos(Y)\n",
    "plt.contour(X,Y,z,255)\n",
    "plt.show()"
   ]
  },
  {
   "cell_type": "code",
   "execution_count": 11,
   "metadata": {
    "collapsed": true
   },
   "outputs": [],
   "source": [
    "#Histogram\n",
    "x = np.random.randn(1000)\n",
    "plt.hist(x, 10)\n",
    "plt.show()"
   ]
  },
  {
   "cell_type": "code",
   "execution_count": null,
   "metadata": {
    "collapsed": true
   },
   "outputs": [],
   "source": [
    "# Pie Chart\n",
    "x = np.array([4,3,6,2,9])\n",
    "plt.pie(x)\n",
    "plt.show()"
   ]
  }
 ],
 "metadata": {
  "kernelspec": {
   "display_name": "IPython (Python 3)",
   "language": "python",
   "name": "python3"
  },
  "language_info": {
   "codemirror_mode": {
    "name": "ipython",
    "version": 3
   },
   "file_extension": ".py",
   "mimetype": "text/x-python",
   "name": "python",
   "nbconvert_exporter": "python",
   "pygments_lexer": "ipython3",
   "version": "3.5.1"
  }
 },
 "nbformat": 4,
 "nbformat_minor": 0
}
